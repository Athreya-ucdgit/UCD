{
 "cells": [
  {
   "cell_type": "code",
   "execution_count": 6,
   "metadata": {},
   "outputs": [
    {
     "name": "stdout",
     "output_type": "stream",
     "text": [
      "['Room 536\\n Library Building\\n University College Dublin\\n Dublin 4\\n Ireland', 'Room G03\\n Science Centre North University College Dublin\\n Belfield\\n Dublin 4\\n Ireland']\n"
     ]
    }
   ],
   "source": [
    "import re\n",
    "\n",
    "addr = ['Room 536, Library Building, University College Dublin, Dublin 4, Ireland', \n",
    "        'Room G03, Science Centre North University College Dublin, Belfield, Dublin 4, Ireland']\n",
    "\n",
    "for i in range(len(addr)):\n",
    "    addr[i] = re.sub(\",\",\"\\n\",addr[i])\n",
    "\n",
    "print(addr)"
   ]
  },
  {
   "cell_type": "code",
   "execution_count": 7,
   "metadata": {},
   "outputs": [
    {
     "name": "stdout",
     "output_type": "stream",
     "text": [
      "['ucd.ie', 'gmail.com', 'hotmail.com']\n"
     ]
    }
   ],
   "source": [
    "emails = ['test1@ucd.ie','test2@gmail.com','test3@hotmail.com']\n",
    "domains = []\n",
    "\n",
    "for i in emails:\n",
    "    domains.append(i.split(\"@\")[1])\n",
    "\n",
    "print(domains)"
   ]
  },
  {
   "cell_type": "code",
   "execution_count": null,
   "metadata": {},
   "outputs": [
    {
     "name": "stdout",
     "output_type": "stream",
     "text": [
      "['continent', 'main', 'sea', 'less']\n"
     ]
    }
   ],
   "source": [
    "poem = 'No man is an island, entire of itself, every man is a piece of the continent, a part of the main. If a clod be washed away by the sea, Europe is the less.'\n",
    "\n",
    "result = re.findall(\"the\\s([a-z]*)\",poem)\n",
    "print(result)"
   ]
  },
  {
   "cell_type": "code",
   "execution_count": 40,
   "metadata": {},
   "outputs": [
    {
     "name": "stdout",
     "output_type": "stream",
     "text": [
      "['test@capahq.org']\n"
     ]
    }
   ],
   "source": [
    "def find_emails(x):\n",
    "    result = re.findall(\"[A-Za-z0-9]+@[A-Za-z]+.[A-Za-z]+\",x)\n",
    "    print(result)\n",
    "\n",
    "find_emails(\"John Koftaram <test@capahq.org> would like to connect on LinkedIn. How would you like to respond?\")    "
   ]
  }
 ],
 "metadata": {
  "kernelspec": {
   "display_name": "Python 3",
   "language": "python",
   "name": "python3"
  },
  "language_info": {
   "codemirror_mode": {
    "name": "ipython",
    "version": 3
   },
   "file_extension": ".py",
   "mimetype": "text/x-python",
   "name": "python",
   "nbconvert_exporter": "python",
   "pygments_lexer": "ipython3",
   "version": "3.11.4"
  }
 },
 "nbformat": 4,
 "nbformat_minor": 2
}
