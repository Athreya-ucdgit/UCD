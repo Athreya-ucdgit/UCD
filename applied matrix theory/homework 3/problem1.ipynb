{
 "cells": [
  {
   "cell_type": "code",
   "execution_count": 2,
   "metadata": {},
   "outputs": [],
   "source": [
    "import numpy as np\n",
    "import math"
   ]
  },
  {
   "cell_type": "code",
   "execution_count": 3,
   "metadata": {},
   "outputs": [],
   "source": [
    "m = np.array([[4,1,0.5,0.5],[4,1,-0.5,-0.5],[4,-2,0,0]])"
   ]
  },
  {
   "cell_type": "code",
   "execution_count": 4,
   "metadata": {},
   "outputs": [],
   "source": [
    "svd = np.linalg.svd(m)"
   ]
  },
  {
   "cell_type": "code",
   "execution_count": 5,
   "metadata": {},
   "outputs": [
    {
     "name": "stdout",
     "output_type": "stream",
     "text": [
      "[[ 5.77350269e-01  4.08248290e-01  7.07106781e-01]\n",
      " [ 5.77350269e-01  4.08248290e-01 -7.07106781e-01]\n",
      " [ 5.77350269e-01 -8.16496581e-01 -2.14553655e-16]]\n",
      "[6.92820323 2.44948974 1.        ]\n",
      "[[ 1.00000000e+00  8.32667268e-17 -2.77555756e-17 -2.77555756e-17]\n",
      " [-7.27735153e-18  1.00000000e+00  9.57638507e-18  9.57638507e-18]\n",
      " [ 1.58196364e-17  2.34444018e-17  7.07106781e-01  7.07106781e-01]\n",
      " [ 1.11626586e-18 -4.93423030e-17 -7.07106781e-01  7.07106781e-01]]\n",
      "[[ 6.9282  0.     -0.      0.    ]\n",
      " [-0.      2.4495 -0.     -0.    ]\n",
      " [ 0.      0.      1.      0.    ]]\n"
     ]
    }
   ],
   "source": [
    "print(svd.U)\n",
    "print(svd.S)\n",
    "print(svd.Vh)\n",
    "\n",
    "print(np.round(svd.U.T @ m @ svd.Vh.T,decimals=4))"
   ]
  },
  {
   "cell_type": "code",
   "execution_count": 6,
   "metadata": {},
   "outputs": [
    {
     "name": "stdout",
     "output_type": "stream",
     "text": [
      "[[17.5 16.5 14. ]\n",
      " [16.5 17.5 14. ]\n",
      " [14.  14.  20. ]]\n",
      "[[48.   0.   0.   0. ]\n",
      " [ 0.   6.   0.   0. ]\n",
      " [ 0.   0.   0.5  0.5]\n",
      " [ 0.   0.   0.5  0.5]]\n"
     ]
    }
   ],
   "source": [
    "m_mt = m @ m.T\n",
    "mt_m = m.T @ m\n",
    "\n",
    "print(m_mt)\n",
    "print(mt_m)"
   ]
  },
  {
   "cell_type": "code",
   "execution_count": 7,
   "metadata": {},
   "outputs": [
    {
     "name": "stdout",
     "output_type": "stream",
     "text": [
      "[48.  1.  6.]\n",
      "[[-5.77350269e-01 -7.07106781e-01 -4.08248290e-01]\n",
      " [-5.77350269e-01  7.07106781e-01 -4.08248290e-01]\n",
      " [-5.77350269e-01  9.97620368e-17  8.16496581e-01]]\n",
      "[[ 0.          0.          1.          0.        ]\n",
      " [ 0.          0.          0.          1.        ]\n",
      " [ 0.70710678 -0.70710678  0.          0.        ]\n",
      " [ 0.70710678  0.70710678  0.          0.        ]]\n",
      "[1.00000000e+00 1.11022302e-16 4.80000000e+01 6.00000000e+00]\n"
     ]
    }
   ],
   "source": [
    "print(np.linalg.eig(m_mt).eigenvalues)\n",
    "print(np.linalg.eig(m_mt).eigenvectors)\n",
    "print(np.linalg.eig(mt_m).eigenvectors)\n",
    "print(np.linalg.eig(mt_m).eigenvalues)"
   ]
  },
  {
   "cell_type": "code",
   "execution_count": 8,
   "metadata": {},
   "outputs": [
    {
     "data": {
      "text/plain": [
       "array([[ 30.5, -16.5, -14. ],\n",
       "       [-16.5,  30.5, -14. ],\n",
       "       [-14. , -14. ,  28. ]])"
      ]
     },
     "execution_count": 8,
     "metadata": {},
     "output_type": "execute_result"
    }
   ],
   "source": [
    "test = np.array([[30.5,-16.5,-14],[-16.5,30.5,-14],[-14,-14,28]])\n",
    "test"
   ]
  },
  {
   "cell_type": "code",
   "execution_count": 9,
   "metadata": {},
   "outputs": [
    {
     "data": {
      "text/plain": [
       "array([[  1.        ,  -0.54098361,  -0.45901639],\n",
       "       [-16.5       ,  30.5       , -14.        ],\n",
       "       [-14.        , -14.        ,  28.        ]])"
      ]
     },
     "execution_count": 9,
     "metadata": {},
     "output_type": "execute_result"
    }
   ],
   "source": [
    "test[0] = test[0] / 30.5\n",
    "test"
   ]
  },
  {
   "cell_type": "code",
   "execution_count": 10,
   "metadata": {},
   "outputs": [
    {
     "data": {
      "text/plain": [
       "array([[  1.        ,  -0.54098361,  -0.45901639],\n",
       "       [  0.        ,  21.57377049, -21.57377049],\n",
       "       [  0.        , -21.57377049,  21.57377049]])"
      ]
     },
     "execution_count": 10,
     "metadata": {},
     "output_type": "execute_result"
    }
   ],
   "source": [
    "test[1] = test[1] + test[0] * (16.5)\n",
    "test[2] = test[2] + test[0] * (14)\n",
    "test"
   ]
  },
  {
   "cell_type": "code",
   "execution_count": 11,
   "metadata": {},
   "outputs": [
    {
     "data": {
      "text/plain": [
       "array([[  1.        ,  -0.54098361,  -0.45901639],\n",
       "       [  0.        ,   1.        ,  -1.        ],\n",
       "       [  0.        , -21.57377049,  21.57377049]])"
      ]
     },
     "execution_count": 11,
     "metadata": {},
     "output_type": "execute_result"
    }
   ],
   "source": [
    "test[1] = test[1] / test[1,1]\n",
    "test"
   ]
  },
  {
   "cell_type": "code",
   "execution_count": 12,
   "metadata": {},
   "outputs": [
    {
     "data": {
      "text/plain": [
       "array([[ 1.        , -0.54098361, -0.45901639],\n",
       "       [ 0.        ,  1.        , -1.        ],\n",
       "       [ 0.        ,  0.        ,  0.        ]])"
      ]
     },
     "execution_count": 12,
     "metadata": {},
     "output_type": "execute_result"
    }
   ],
   "source": [
    "test[2] = test[2] - test[1] * test[2,1]\n",
    "test"
   ]
  },
  {
   "cell_type": "code",
   "execution_count": 13,
   "metadata": {},
   "outputs": [
    {
     "data": {
      "text/plain": [
       "array([[ 1.,  0., -1.],\n",
       "       [ 0.,  1., -1.],\n",
       "       [ 0.,  0.,  0.]])"
      ]
     },
     "execution_count": 13,
     "metadata": {},
     "output_type": "execute_result"
    }
   ],
   "source": [
    "test[0] = test[0] - test[1] * test[0,1]\n",
    "test"
   ]
  },
  {
   "cell_type": "code",
   "execution_count": 14,
   "metadata": {},
   "outputs": [
    {
     "data": {
      "text/plain": [
       "array([[ 6.924e+00,  0.000e+00,  0.000e+00,  0.000e+00],\n",
       "       [ 2.000e-03,  2.448e+00,  0.000e+00,  0.000e+00],\n",
       "       [ 0.000e+00,  0.000e+00,  1.000e+00, -0.000e+00]])"
      ]
     },
     "execution_count": 14,
     "metadata": {},
     "output_type": "execute_result"
    }
   ],
   "source": [
    "U = np.array([[0.577,0.4082,0.707],[0.577,0.4082,-0.707],[0.577,-0.816,0]])\n",
    "V = [[1,0,0,0],[0,1,0,0],[0,0,0.707,0.707],[0,0,0.707,-0.707]]\n",
    "\n",
    "result = np.round(U.T @ m @ V,decimals=3)\n",
    "result"
   ]
  },
  {
   "cell_type": "code",
   "execution_count": 15,
   "metadata": {},
   "outputs": [
    {
     "data": {
      "text/plain": [
       "0.00023080000000001325"
      ]
     },
     "execution_count": 15,
     "metadata": {},
     "output_type": "execute_result"
    }
   ],
   "source": [
    "U[:,0] @ U[:,1]"
   ]
  },
  {
   "cell_type": "code",
   "execution_count": null,
   "metadata": {},
   "outputs": [
    {
     "name": "stdout",
     "output_type": "stream",
     "text": [
      "[1.00000000e+00 1.11022302e-16 0.00000000e+00]\n"
     ]
    },
    {
     "data": {
      "text/plain": [
       "1.0"
      ]
     },
     "execution_count": 22,
     "metadata": {},
     "output_type": "execute_result"
    },
    {
     "ename": "",
     "evalue": "",
     "output_type": "error",
     "traceback": [
      "\u001b[1;31mThe Kernel crashed while executing code in the current cell or a previous cell. \n",
      "\u001b[1;31mPlease review the code in the cell(s) to identify a possible cause of the failure. \n",
      "\u001b[1;31mClick <a href='https://aka.ms/vscodeJupyterKernelCrash'>here</a> for more info. \n",
      "\u001b[1;31mView Jupyter <a href='command:jupyter.viewOutput'>log</a> for further details."
     ]
    }
   ],
   "source": [
    "np.linalg.norm([[0,0,0.5,0.5],[0,0,-0.5,-0.5],[0,0,0,0]],2)"
   ]
  }
 ],
 "metadata": {
  "kernelspec": {
   "display_name": "Python 3",
   "language": "python",
   "name": "python3"
  },
  "language_info": {
   "codemirror_mode": {
    "name": "ipython",
    "version": 3
   },
   "file_extension": ".py",
   "mimetype": "text/x-python",
   "name": "python",
   "nbconvert_exporter": "python",
   "pygments_lexer": "ipython3",
   "version": "3.11.4"
  }
 },
 "nbformat": 4,
 "nbformat_minor": 2
}
